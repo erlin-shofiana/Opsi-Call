{
 "cells": [
  {
   "cell_type": "markdown",
   "metadata": {},
   "source": [
    "# TSLA"
   ]
  },
  {
   "cell_type": "code",
   "execution_count": 1,
   "metadata": {},
   "outputs": [
    {
     "name": "stderr",
     "output_type": "stream",
     "text": [
      "[*********************100%***********************]  1 of 1 completed\n",
      "[*********************100%***********************]  1 of 1 completed\n",
      "[*********************100%***********************]  1 of 1 completed\n",
      "[*********************100%***********************]  1 of 1 completed\n",
      "[*********************100%***********************]  1 of 1 completed\n",
      "[*********************100%***********************]  1 of 1 completed\n",
      "[*********************100%***********************]  1 of 1 completed\n",
      "[*********************100%***********************]  1 of 1 completed\n",
      "[*********************100%***********************]  1 of 1 completed\n",
      "[*********************100%***********************]  1 of 1 completed\n"
     ]
    }
   ],
   "source": [
    "import yfinance as yf\n",
    "import numpy as np\n",
    "import pandas as pd\n",
    "import math\n",
    "from scipy.stats import norm\n",
    "\n",
    "\n",
    "tickers = [\n",
    "    \"NVDA\", \"AAPL\", \"MSFT\", \"AMZN\", \"GOOG\", \"GOOGL\", \n",
    "    \"MA\", \"META\", \"TSLA\", \"BRK-B\"\n",
    "]\n",
    "\n",
    "# Tanggal awal dan akhir data\n",
    "start_date = \"2023-11-14\"\n",
    "end_date = \"2024-11-14\"\n",
    "\n",
    "# Ambil data untuk semua ticker\n",
    "all_data = {}\n",
    "for ticker in tickers:\n",
    "    data = yf.download(ticker, start=start_date, end=end_date)\n",
    "    data['Log Return'] = np.log(data['Close'] / data['Close'].shift(1))\n",
    "    all_data[ticker] = data\n",
    "\n",
    "# Simpan hasil ke DataFrame gabungan untuk analisis lebih lanjut\n",
    "returns_data = pd.DataFrame({ticker: all_data[ticker]['Log Return'] for ticker in tickers})\n",
    "\n",
    "# Menghapus baris dengan NaN (awal setiap ticker memiliki 1 nilai NaN)\n",
    "returns_data = returns_data.dropna()"
   ]
  },
  {
   "cell_type": "code",
   "execution_count": null,
   "metadata": {},
   "outputs": [],
   "source": [
    "# file_name = \"log_returns.xlsx\"\n",
    "# returns_data.to_excel(file_name, sheet_name=\"Log Returns\")"
   ]
  },
  {
   "cell_type": "markdown",
   "metadata": {},
   "source": [
    "#### Menghitung Data Log Return"
   ]
  },
  {
   "cell_type": "code",
   "execution_count": 42,
   "metadata": {},
   "outputs": [
    {
     "name": "stderr",
     "output_type": "stream",
     "text": [
      "[*********************100%***********************]  1 of 1 completed\n"
     ]
    }
   ],
   "source": [
    "import yfinance as yf\n",
    "import numpy as np\n",
    "import math\n",
    "from scipy.stats import norm\n",
    "\n",
    "\n",
    "# Ambil data saham dari Yahoo Finance\n",
    "ticker = \"MSFT\"  # Ganti dengan ticker saham yang diinginkan, contoh UNVR.JK\n",
    "data = yf.download (ticker, start=\"2023-11-14\", end =\"2024-11-14\")  # Periode yang sama seperti di dokumen\n",
    "\n",
    "# Hitung return logaritmik harian\n",
    "data['Log Return'] = np.log(data['Close'] / data['Close'].shift(1))\n",
    "returns = data['Log Return'].dropna()  # Hilangkan NaN\n",
    "\n",
    "\n"
   ]
  },
  {
   "cell_type": "code",
   "execution_count": 2,
   "metadata": {},
   "outputs": [
    {
     "data": {
      "text/plain": [
       "Date\n",
       "2023-11-15    0.022614\n",
       "2023-11-16   -0.038835\n",
       "2023-11-17    0.003035\n",
       "2023-11-20    0.005533\n",
       "2023-11-21    0.023491\n",
       "                ...   \n",
       "2024-11-07    0.028630\n",
       "2024-11-08    0.078697\n",
       "2024-11-11    0.085807\n",
       "2024-11-12   -0.063427\n",
       "2024-11-13    0.005313\n",
       "Name: Log Return, Length: 251, dtype: float64"
      ]
     },
     "execution_count": 2,
     "metadata": {},
     "output_type": "execute_result"
    }
   ],
   "source": [
    "returns"
   ]
  },
  {
   "cell_type": "code",
   "execution_count": 97,
   "metadata": {},
   "outputs": [],
   "source": [
    "ks_stat, p_value = kstest(returns, 'norm', args=(returns.mean(), returns.std()))"
   ]
  },
  {
   "cell_type": "code",
   "execution_count": 98,
   "metadata": {},
   "outputs": [
    {
     "data": {
      "text/plain": [
       "0.053145857032193766"
      ]
     },
     "execution_count": 98,
     "metadata": {},
     "output_type": "execute_result"
    }
   ],
   "source": [
    "p_value"
   ]
  },
  {
   "cell_type": "markdown",
   "metadata": {},
   "source": [
    "#### Normalitas"
   ]
  },
  {
   "cell_type": "code",
   "execution_count": 99,
   "metadata": {},
   "outputs": [
    {
     "name": "stdout",
     "output_type": "stream",
     "text": [
      "Jarque-Bera Statistic: 233.8533615731\n",
      "P-value: 0.00000000000000000000\n",
      "Kolmogorov-Smirnov Statistic: 0.4554112672\n",
      "P-value: 0.00000000000000000000\n"
     ]
    }
   ],
   "source": [
    "from scipy.stats import jarque_bera\n",
    "jb_stat, p_value = jarque_bera(returns)\n",
    "\n",
    "print(f\"Jarque-Bera Statistic: {jb_stat:.10f}\")\n",
    "print(f\"P-value: {p_value:.20f}\")\n",
    "\n",
    "from scipy.stats import kstest\n",
    "ks_stat, p_value = kstest(returns, 'norm')  # 'norm' untuk distribusi normal\n",
    "\n",
    "# Tampilkan hasil dengan format yang diinginkan\n",
    "print(f\"Kolmogorov-Smirnov Statistic: {ks_stat:.10f}\")\n",
    "print(f\"P-value: {p_value:.20f}\")\n"
   ]
  },
  {
   "cell_type": "markdown",
   "metadata": {},
   "source": [
    "#### Nilai Opsi"
   ]
  },
  {
   "cell_type": "code",
   "execution_count": 43,
   "metadata": {},
   "outputs": [],
   "source": [
    "S0 = 426.89  # Harga saham terakhir pada periode\n",
    "K = 310 # Harga strike sebagai contoh, dapat disesuaikan\n",
    "r = 0.04293  # Suku bunga bebas risiko sesuai dokumen (3.5%)\n",
    "T = 8/252  # Waktu hingga jatuh tempo, misal 3 bulan atau 0.25 tahun\n",
    "sigma = returns.std() * np.sqrt(252)\n"
   ]
  },
  {
   "cell_type": "markdown",
   "metadata": {},
   "source": [
    "#### Black Sholes dan Gram Charlier"
   ]
  },
  {
   "cell_type": "code",
   "execution_count": 7,
   "metadata": {},
   "outputs": [
    {
     "name": "stdout",
     "output_type": "stream",
     "text": [
      "Harga opsi Black-Scholes (CBS): 216.3093832431\n",
      "Harga opsi Gram-Charlier (CGC): 216.3568121537\n"
     ]
    }
   ],
   "source": [
    "import numpy as np\n",
    "from scipy.stats import norm\n",
    "\n",
    "skewness = returns.skew()\n",
    "kurtosis = returns.kurt()\n",
    "\n",
    "# Perhitungan d1 dan d2 Black-Scholes\n",
    "d1 = (np.log(S0 / K) + (r + sigma**2 / 2) * T) / (sigma * np.sqrt(T))\n",
    "d2 = d1 - sigma * np.sqrt(T)\n",
    "\n",
    "# Harga opsi Black-Scholes (CBS)\n",
    "CBS = S0 * norm.cdf(d1) - K * np.exp(-r * T) * norm.cdf(d2)\n",
    "\n",
    "# Koreksi harga opsi Gram-Charlier\n",
    "Q3 = (1 / 6) * S0 * sigma * np.sqrt(T) * (norm.pdf(d1) * (2 * sigma * np.sqrt(T) - d1) + sigma**2 * T * norm.cdf(d1))\n",
    "Q4 = (1 / 24) * S0 * sigma * np.sqrt(T) * (norm.pdf(d1) * (d1**2 - 3 * sigma * np.sqrt(T) * (d1 - sigma * np.sqrt(T)) - 1) + (sigma * np.sqrt(T))**3 * norm.cdf(d1))\n",
    "\n",
    "# Harga opsi Gram-Charlier (CGC)\n",
    "CGC = CBS + skewness * Q3 + (kurtosis - 3) * Q4\n",
    "\n",
    "# Output hasil\n",
    "print(f\"Harga opsi Black-Scholes (CBS): {CBS:.10f}\")\n",
    "print(f\"Harga opsi Gram-Charlier (CGC): {CGC:.10f}\")\n"
   ]
  },
  {
   "cell_type": "markdown",
   "metadata": {},
   "source": [
    "#### Variance Gamma"
   ]
  },
  {
   "cell_type": "code",
   "execution_count": 44,
   "metadata": {},
   "outputs": [
    {
     "name": "stdout",
     "output_type": "stream",
     "text": [
      "sigma: 0.0694, theta: -0.0001, nu: 0.8006\n"
     ]
    }
   ],
   "source": [
    "import numpy as np\n",
    "from scipy.stats import kurtosis, skew\n",
    "\n",
    "def estimate_variance_gamma_params(log_returns, T):\n",
    "    \"\"\"\n",
    "    Estimasi parameter Variance Gamma (sigma, theta, nu) menggunakan method of moments.\n",
    "    \n",
    "    Parameters:\n",
    "        log_returns: array-like, log return data historis\n",
    "        T: float, periode waktu (dalam tahun)\n",
    "\n",
    "    Returns:\n",
    "        sigma, theta, nu: float, parameter Variance Gamma\n",
    "    \"\"\"\n",
    "    # Hitung momen data\n",
    "    mean = np.mean(log_returns) / T\n",
    "    variance = np.var(log_returns) / T\n",
    "    skewness = skew(log_returns)\n",
    "    kurt = kurtosis(log_returns, fisher=False)  # Fisher=False untuk kurtosis populasi\n",
    "\n",
    "    # Estimasi parameter\n",
    "    theta = skewness * (variance ** 1.5) / (2 * (kurt - 3))\n",
    "    nu = (kurt - 3) * variance / (3 * (variance - theta**2))\n",
    "    sigma = np.sqrt(variance - theta**2 * nu)\n",
    "\n",
    "    return sigma, theta, nu\n",
    "\n",
    "\n",
    "\n",
    "sigma, theta, nu = estimate_variance_gamma_params(returns, T)\n",
    "print(f\"sigma: {sigma:.4f}, theta: {theta:.4f}, nu: {nu:.4f}\")\n"
   ]
  },
  {
   "cell_type": "code",
   "execution_count": 45,
   "metadata": {},
   "outputs": [
    {
     "name": "stdout",
     "output_type": "stream",
     "text": [
      "Harga opsi call (Variance Gamma): 117.3054\n"
     ]
    }
   ],
   "source": [
    "import numpy as np\n",
    "from scipy.stats import norm\n",
    "\n",
    "def variance_gamma_call_price(S0, K, T, r, sigma, theta, nu, n_simulations=10000):\n",
    "    \"\"\"\n",
    "    Menghitung harga opsi call menggunakan model Variance Gamma dengan simulasi Monte Carlo.\n",
    "    \n",
    "    Parameters:\n",
    "        S0: float, harga awal aset\n",
    "        K: float, harga strike\n",
    "        T: float, waktu hingga jatuh tempo\n",
    "        r: float, tingkat bunga bebas risiko\n",
    "        sigma: float, volatilitas dari proses Brownian\n",
    "        theta: float, drift pada proses Brownian\n",
    "        nu: float, tingkat varians dari perubahan waktu gamma\n",
    "        n_simulations: int, jumlah simulasi Monte Carlo\n",
    "\n",
    "    Returns:\n",
    "        float, harga opsi call\n",
    "    \"\"\"\n",
    "    # Simulasi distribusi gamma\n",
    "    gamma = np.random.gamma(shape=T / nu, scale=nu, size=n_simulations)\n",
    "    \n",
    "    # Proses Variance Gamma\n",
    "    # drift = (r - np.log(1 - theta * nu - 0.5 * sigma**2 * nu)) * T\n",
    "    # diffusion = theta * gamma + sigma * np.sqrt(gamma) * np.random.normal(size=n_simulations)\n",
    "    # ST = S0 * np.exp(drift + diffusion)\n",
    "    \n",
    "    # Proses Variance Gamma\n",
    "    drift = (r + (1/(nu))*np.log(1 - theta * nu - 0.5 * sigma**2 * nu)) * T\n",
    "    diffusion = theta * gamma + sigma * np.sqrt(gamma) * np.random.normal(size=n_simulations)\n",
    "    ST = S0 * np.exp(drift + diffusion)\n",
    "    \n",
    "    # Nilai opsi call\n",
    "    call_payoff = np.maximum(ST - K, 0)\n",
    "    call_price = np.exp(-r * T) * np.mean(call_payoff)\n",
    "    \n",
    "    return call_price\n",
    "\n",
    "# Contoh penggunaan\n",
    "n_simulations = 100000  # Jumlah simulasi Monte Carlo\n",
    "\n",
    "call_price = variance_gamma_call_price(S0, K, T, r, sigma, theta, nu, n_simulations)\n",
    "print(f\"Harga opsi call (Variance Gamma): {call_price:.4f}\")\n"
   ]
  },
  {
   "cell_type": "markdown",
   "metadata": {},
   "source": [
    "#### Antithetic Variate"
   ]
  },
  {
   "cell_type": "code",
   "execution_count": 38,
   "metadata": {},
   "outputs": [
    {
     "name": "stdout",
     "output_type": "stream",
     "text": [
      "Harga opsi call (Antithetic Variate Reduction): 142.9306\n"
     ]
    }
   ],
   "source": [
    "import numpy as np\n",
    "\n",
    "def variance_gamma_call_price_avr(S0, K, T, r, sigma, theta, nu, n_simulations=10000):\n",
    "    \"\"\"\n",
    "    Menghitung harga opsi call menggunakan model Variance Gamma \n",
    "    dengan teknik antithetic variate reduction.\n",
    "    \n",
    "    Parameters:\n",
    "        S0: float, harga awal aset\n",
    "        K: float, harga strike\n",
    "        T: float, waktu hingga jatuh tempo\n",
    "        r: float, tingkat bunga bebas risiko\n",
    "        sigma: float, volatilitas dari proses Brownian\n",
    "        theta: float, drift pada proses Brownian\n",
    "        nu: float, tingkat varians dari perubahan waktu gamma\n",
    "        n_simulations: int, jumlah simulasi Monte Carlo\n",
    "\n",
    "    Returns:\n",
    "        float, harga opsi call\n",
    "    \"\"\"\n",
    "    # Separuh jumlah simulasi untuk pasangan antithetic\n",
    "    half_simulations = n_simulations \n",
    "    \n",
    "    # Simulasi gamma\n",
    "    gamma = np.random.gamma(shape=T / nu, scale=nu, size=half_simulations)\n",
    "    \n",
    "    # Simulasi normal untuk Z\n",
    "    Z = np.random.normal(size=half_simulations)\n",
    "    \n",
    "    # Variance Gamma paths untuk pasangan (Z, -Z)\n",
    "    drift = (r + (1 / nu) * np.log(1 - theta * nu - 0.5 * sigma**2 * nu)) * T\n",
    "    \n",
    "    ST_plus = S0 * np.exp(drift + theta * gamma + sigma * np.sqrt(gamma) * Z)\n",
    "    ST_minus = S0 * np.exp(drift + theta * gamma - sigma * np.sqrt(gamma) * Z)\n",
    "    \n",
    "    # Harga opsi call untuk pasangan antithetic\n",
    "    payoff_plus = np.maximum(ST_plus - K, 0)\n",
    "    payoff_minus = np.maximum(ST_minus - K, 0)\n",
    "    \n",
    "    # Estimasi harga opsi menggunakan rata-rata antithetic\n",
    "    call_price = np.exp(-r * T) * np.mean((payoff_plus + payoff_minus) / 2)\n",
    "    \n",
    "    return call_price\n",
    "\n",
    "# Contoh parameter\n",
    "\n",
    "n_simulations = 100000  # Jumlah simulasi Monte Carlo\n",
    "\n",
    "# Hitung harga opsi call dengan antithetic variate\n",
    "call_price_avr = variance_gamma_call_price_avr(S0, K, T, r, sigma, theta, nu, n_simulations)\n",
    "print(f\"Harga opsi call (Antithetic Variate Reduction): {call_price_avr:.4f}\")\n"
   ]
  },
  {
   "cell_type": "markdown",
   "metadata": {},
   "source": [
    "# BRK-B"
   ]
  },
  {
   "cell_type": "markdown",
   "metadata": {},
   "source": [
    "#### Menghitung Data Log Return"
   ]
  },
  {
   "cell_type": "code",
   "execution_count": 58,
   "metadata": {},
   "outputs": [
    {
     "name": "stderr",
     "output_type": "stream",
     "text": [
      "[*********************100%***********************]  1 of 1 completed\n"
     ]
    }
   ],
   "source": [
    "import yfinance as yf\n",
    "import numpy as np\n",
    "import math\n",
    "from scipy.stats import norm\n",
    "\n",
    "# Fungsi Black-Scholes untuk menghitung harga opsi beli\n",
    "def black_scholes_call(S0, K, r, T, sigma):\n",
    "    # Hitung d1 dan d2\n",
    "    d1 = (math.log(S0 / K) + (r + 0.5 * sigma ** 2) * T) / (sigma * math.sqrt(T))\n",
    "    d2 = d1 - sigma * math.sqrt(T)\n",
    "    \n",
    "    # Harga opsi beli menggunakan Black-Scholes\n",
    "    call_price = S0 * norm.cdf(d1) - K * math.exp(-r * T) * norm.cdf(d2)\n",
    "    return call_price\n",
    "\n",
    "# Ambil data saham dari Yahoo Finance\n",
    "ticker = \"BRK-B\"  # Ganti dengan ticker saham yang diinginkan, contoh UNVR.JK\n",
    "data = yf.download (ticker, start=\"2023-11-14\", end =\"2024-11-14\")  # Periode yang sama seperti di dokumen\n",
    "\n",
    "# Hitung return logaritmik harian\n",
    "data['Log Return'] = np.log(data['Close'] / data['Close'].shift(1))\n",
    "returns = data['Log Return'].dropna()  # Hilangkan NaN\n",
    "\n",
    "\n",
    "\n"
   ]
  },
  {
   "cell_type": "markdown",
   "metadata": {},
   "source": [
    "#### Normalitas"
   ]
  },
  {
   "cell_type": "code",
   "execution_count": 47,
   "metadata": {},
   "outputs": [
    {
     "name": "stdout",
     "output_type": "stream",
     "text": [
      "Jarque-Bera Statistic: 200.8372045803\n",
      "P-value: 0.00000000000000000000\n",
      "Kolmogorov-Smirnov Statistic: 0.4867448815\n",
      "P-value: 0.00000000000000000000\n"
     ]
    }
   ],
   "source": [
    "from scipy.stats import jarque_bera\n",
    "jb_stat, p_value = jarque_bera(returns)\n",
    "\n",
    "print(f\"Jarque-Bera Statistic: {jb_stat:.10f}\")\n",
    "print(f\"P-value: {p_value:.20f}\")\n",
    "from scipy.stats import kstest\n",
    "ks_stat, p_value = kstest(returns, 'norm')  # 'norm' untuk distribusi normal\n",
    "\n",
    "# Tampilkan hasil dengan format yang diinginkan\n",
    "print(f\"Kolmogorov-Smirnov Statistic: {ks_stat:.10f}\")\n",
    "print(f\"P-value: {p_value:.20f}\")\n",
    "\n",
    "\n"
   ]
  },
  {
   "cell_type": "markdown",
   "metadata": {},
   "source": [
    "#### Nilai Opsi"
   ]
  },
  {
   "cell_type": "code",
   "execution_count": 59,
   "metadata": {},
   "outputs": [],
   "source": [
    "# print(f\"Harga opsi beli (call option) dengan Black-Scholes adalah: {call_price_black_scholes:.4f}\")\n",
    "S0 = 467.7  # Harga saham terakhir pada periode\n",
    "K = 457.7  # Harga strike sebagai contoh, dapat disesuaikan\n",
    "r = 0.04293  # Suku bunga bebas risiko sesuai dokumen (3.5%)\n",
    "T = 8/252  # Waktu hingga jatuh tempo, misal 3 bulan atau 0.25 tahun\n",
    "sigma = returns.std() * np.sqrt(252)\n",
    "#sigma = returns.std()"
   ]
  },
  {
   "cell_type": "markdown",
   "metadata": {},
   "source": [
    "#### Black Sholes dan Gram Charlier"
   ]
  },
  {
   "cell_type": "code",
   "execution_count": 49,
   "metadata": {},
   "outputs": [
    {
     "name": "stdout",
     "output_type": "stream",
     "text": [
      "Harga opsi Black-Scholes (CBS): 11.8100558414\n",
      "Harga opsi Gram-Charlier (CGC): 11.6792694972\n"
     ]
    }
   ],
   "source": [
    "### Black Scholes dan Gram Charlier\n",
    "import numpy as np\n",
    "from scipy.stats import norm\n",
    "\n",
    "skewness = returns.skew()\n",
    "kurtosis = returns.kurt()\n",
    "\n",
    "# Perhitungan d1 dan d2 Black-Scholes\n",
    "d1 = (np.log(S0 / K) + (r + sigma**2 / 2) * T) / (sigma * np.sqrt(T))\n",
    "d2 = d1 - sigma * np.sqrt(T)\n",
    "\n",
    "# Harga opsi Black-Scholes (CBS)\n",
    "CBS = S0 * norm.cdf(d1) - K * np.exp(-r * T) * norm.cdf(d2)\n",
    "\n",
    "# Koreksi harga opsi Gram-Charlier\n",
    "Q3 = (1 / 6) * S0 * sigma * np.sqrt(T) * (norm.pdf(d1) * (2 * sigma * np.sqrt(T) - d1) + sigma**2 * T * norm.cdf(d1))\n",
    "Q4 = (1 / 24) * S0 * sigma * np.sqrt(T) * (norm.pdf(d1) * (d1**2 - 3 * sigma * np.sqrt(T) * (d1 - sigma * np.sqrt(T)) - 1) + (sigma * np.sqrt(T))**3 * norm.cdf(d1))\n",
    "\n",
    "# Harga opsi Gram-Charlier (CGC)\n",
    "CGC = CBS + skewness * Q3 + (kurtosis - 3) * Q4\n",
    "\n",
    "# Output hasil\n",
    "print(f\"Harga opsi Black-Scholes (CBS): {CBS:.10f}\")\n",
    "print(f\"Harga opsi Gram-Charlier (CGC): {CGC:.10f}\")\n"
   ]
  },
  {
   "cell_type": "markdown",
   "metadata": {},
   "source": [
    "#### Variance Gamma"
   ]
  },
  {
   "cell_type": "code",
   "execution_count": 60,
   "metadata": {},
   "outputs": [
    {
     "name": "stdout",
     "output_type": "stream",
     "text": [
      "sigma: 0.0506, theta: 0.0000, nu: 1.4553\n"
     ]
    }
   ],
   "source": [
    "\n",
    "### Variance Gamma\n",
    "import numpy as np\n",
    "from scipy.stats import kurtosis, skew\n",
    "\n",
    "def estimate_variance_gamma_params(log_returns, T):\n",
    "    \"\"\"\n",
    "    Estimasi parameter Variance Gamma (sigma, theta, nu) menggunakan method of moments.\n",
    "    \n",
    "    Parameters:\n",
    "        log_returns: array-like, log return data historis\n",
    "        T: float, periode waktu (dalam tahun)\n",
    "\n",
    "    Returns:\n",
    "        sigma, theta, nu: float, parameter Variance Gamma\n",
    "    \"\"\"\n",
    "    # Hitung momen data\n",
    "    mean = np.mean(log_returns) / T\n",
    "    variance = np.var(log_returns) / T\n",
    "    skewness = skew(log_returns)\n",
    "    kurt = kurtosis(log_returns, fisher=False)  # Fisher=False untuk kurtosis populasi\n",
    "\n",
    "    # Estimasi parameter\n",
    "    theta = skewness * (variance ** 1.5) / (2 * (kurt - 3))\n",
    "    nu = (kurt - 3) * variance / (3 * (variance - theta**2))\n",
    "    sigma = np.sqrt(variance - theta**2 * nu)\n",
    "\n",
    "    return sigma, theta, nu\n",
    "\n",
    "\n",
    "\n",
    "sigma, theta, nu = estimate_variance_gamma_params(returns, T)\n",
    "print(f\"sigma: {sigma:.4f}, theta: {theta:.4f}, nu: {nu:.4f}\")\n",
    "\n"
   ]
  },
  {
   "cell_type": "code",
   "execution_count": 62,
   "metadata": {},
   "outputs": [
    {
     "name": "stdout",
     "output_type": "stream",
     "text": [
      "Harga opsi call (Variance Gamma): 10.7642\n"
     ]
    }
   ],
   "source": [
    "import numpy as np\n",
    "from scipy.stats import norm\n",
    "\n",
    "def variance_gamma_call_price(S0, K, T, r, sigma, theta, nu, n_simulations=10000):\n",
    "    \"\"\"\n",
    "    Menghitung harga opsi call menggunakan model Variance Gamma dengan simulasi Monte Carlo.\n",
    "    \n",
    "    Parameters:\n",
    "        S0: float, harga awal aset\n",
    "        K: float, harga strike\n",
    "        T: float, waktu hingga jatuh tempo\n",
    "        r: float, tingkat bunga bebas risiko\n",
    "        sigma: float, volatilitas dari proses Brownian\n",
    "        theta: float, drift pada proses Brownian\n",
    "        nu: float, tingkat varians dari perubahan waktu gamma\n",
    "        n_simulations: int, jumlah simulasi Monte Carlo\n",
    "\n",
    "    Returns:\n",
    "        float, harga opsi call\n",
    "    \"\"\"\n",
    "    # Simulasi distribusi gamma\n",
    "    gamma = np.random.gamma(shape=T / nu, scale=nu, size=n_simulations)\n",
    "    \n",
    "    # Proses Variance Gamma\n",
    "    # drift = (r - np.log(1 - theta * nu - 0.5 * sigma**2 * nu)) * T\n",
    "    # diffusion = theta * gamma + sigma * np.sqrt(gamma) * np.random.normal(size=n_simulations)\n",
    "    # ST = S0 * np.exp(drift + diffusion)\n",
    "    \n",
    "    # Proses Variance Gamma\n",
    "    drift = (r + (1/(nu))*np.log(1 - theta * nu - 0.5 * sigma**2 * nu)) * T\n",
    "    diffusion = theta * gamma + sigma * np.sqrt(gamma) * np.random.normal(size=n_simulations)\n",
    "    ST = S0 * np.exp(drift + diffusion)\n",
    "    \n",
    "    # Nilai opsi call\n",
    "    call_payoff = np.maximum(ST - K, 0)\n",
    "    call_price = np.exp(-r * T) * np.mean(call_payoff)\n",
    "    \n",
    "    return call_price\n",
    "\n",
    "# Contoh penggunaan\n",
    "n_simulations = 100000  # Jumlah simulasi Monte Carlo\n",
    "\n",
    "call_price = variance_gamma_call_price(S0, K, T, r, sigma, theta, nu, n_simulations)\n",
    "print(f\"Harga opsi call (Variance Gamma): {call_price:.4f}\")\n",
    "\n"
   ]
  },
  {
   "cell_type": "markdown",
   "metadata": {},
   "source": [
    "#### Antithetic Variate"
   ]
  },
  {
   "cell_type": "code",
   "execution_count": 63,
   "metadata": {},
   "outputs": [
    {
     "name": "stdout",
     "output_type": "stream",
     "text": [
      "Harga opsi call (Antithetic Variate Reduction): 10.7590\n"
     ]
    }
   ],
   "source": [
    "import numpy as np\n",
    "\n",
    "def variance_gamma_call_price_avr(S0, K, T, r, sigma, theta, nu, n_simulations=10000):\n",
    "    \"\"\"\n",
    "    Menghitung harga opsi call menggunakan model Variance Gamma \n",
    "    dengan teknik antithetic variate reduction.\n",
    "    \n",
    "    Parameters:\n",
    "        S0: float, harga awal aset\n",
    "        K: float, harga strike\n",
    "        T: float, waktu hingga jatuh tempo\n",
    "        r: float, tingkat bunga bebas risiko\n",
    "        sigma: float, volatilitas dari proses Brownian\n",
    "        theta: float, drift pada proses Brownian\n",
    "        nu: float, tingkat varians dari perubahan waktu gamma\n",
    "        n_simulations: int, jumlah simulasi Monte Carlo\n",
    "\n",
    "    Returns:\n",
    "        float, harga opsi call\n",
    "    \"\"\"\n",
    "    # Separuh jumlah simulasi untuk pasangan antithetic\n",
    "    half_simulations = n_simulations \n",
    "    \n",
    "    # Simulasi gamma\n",
    "    gamma = np.random.gamma(shape=T / nu, scale=nu, size=half_simulations)\n",
    "    \n",
    "    # Simulasi normal untuk Z\n",
    "    Z = np.random.normal(size=half_simulations)\n",
    "    \n",
    "    # Variance Gamma paths untuk pasangan (Z, -Z)\n",
    "    drift = (r + (1 / nu) * np.log(1 - theta * nu - 0.5 * sigma**2 * nu)) * T\n",
    "    \n",
    "    ST_plus = S0 * np.exp(drift + theta * gamma + sigma * np.sqrt(gamma) * Z)\n",
    "    ST_minus = S0 * np.exp(drift + theta * gamma - sigma * np.sqrt(gamma) * Z)\n",
    "    \n",
    "    # Harga opsi call untuk pasangan antithetic\n",
    "    payoff_plus = np.maximum(ST_plus - K, 0)\n",
    "    payoff_minus = np.maximum(ST_minus - K, 0)\n",
    "    \n",
    "    # Estimasi harga opsi menggunakan rata-rata antithetic\n",
    "    call_price = np.exp(-r * T) * np.mean((payoff_plus + payoff_minus) / 2)\n",
    "    \n",
    "    return call_price\n",
    "\n",
    "# Contoh parameter\n",
    "\n",
    "n_simulations = 100000  # Jumlah simulasi Monte Carlo\n",
    "\n",
    "# Hitung harga opsi call dengan antithetic variate\n",
    "call_price_avr = variance_gamma_call_price_avr(S0, K, T, r, sigma, theta, nu, n_simulations)\n",
    "print(f\"Harga opsi call (Antithetic Variate Reduction): {call_price_avr:.4f}\")\n"
   ]
  },
  {
   "cell_type": "markdown",
   "metadata": {},
   "source": [
    "# META"
   ]
  },
  {
   "cell_type": "markdown",
   "metadata": {},
   "source": [
    "#### Menghitung Data Log Return"
   ]
  },
  {
   "cell_type": "code",
   "execution_count": 52,
   "metadata": {},
   "outputs": [
    {
     "name": "stderr",
     "output_type": "stream",
     "text": [
      "[*********************100%***********************]  1 of 1 completed\n"
     ]
    }
   ],
   "source": [
    "import yfinance as yf\n",
    "import numpy as np\n",
    "import math\n",
    "from scipy.stats import norm\n",
    "\n",
    "# Fungsi Black-Scholes untuk menghitung harga opsi beli\n",
    "def black_scholes_call(S0, K, r, T, sigma):\n",
    "    # Hitung d1 dan d2\n",
    "    d1 = (math.log(S0 / K) + (r + 0.5 * sigma ** 2) * T) / (sigma * math.sqrt(T))\n",
    "    d2 = d1 - sigma * math.sqrt(T)\n",
    "    \n",
    "    # Harga opsi beli menggunakan Black-Scholes\n",
    "    call_price = S0 * norm.cdf(d1) - K * math.exp(-r * T) * norm.cdf(d2)\n",
    "    return call_price\n",
    "\n",
    "# Ambil data saham dari Yahoo Finance\n",
    "ticker = \"META\"  # Ganti dengan ticker saham yang diinginkan, contoh UNVR.JK\n",
    "data = yf.download (ticker, start=\"2023-11-14\", end =\"2024-11-14\")  # Periode yang sama seperti di dokumen\n",
    "\n",
    "# Hitung return logaritmik harian\n",
    "data['Log Return'] = np.log(data['Close'] / data['Close'].shift(1))\n",
    "returns = data['Log Return'].dropna()  # Hilangkan NaN\n",
    "\n",
    "\n",
    "\n"
   ]
  },
  {
   "cell_type": "markdown",
   "metadata": {},
   "source": [
    "#### Normalitas"
   ]
  },
  {
   "cell_type": "code",
   "execution_count": 27,
   "metadata": {},
   "outputs": [
    {
     "name": "stdout",
     "output_type": "stream",
     "text": [
      "Jarque-Bera Statistic: 4176.3000165101\n",
      "P-value: 0.00000000000000000000\n",
      "Kolmogorov-Smirnov Statistic: 0.4732605996\n",
      "P-value: 0.00000000000000000000\n"
     ]
    }
   ],
   "source": [
    "from scipy.stats import jarque_bera\n",
    "jb_stat, p_value = jarque_bera(returns)\n",
    "\n",
    "print(f\"Jarque-Bera Statistic: {jb_stat:.10f}\")\n",
    "print(f\"P-value: {p_value:.20f}\")\n",
    "from scipy.stats import kstest\n",
    "ks_stat, p_value = kstest(returns, 'norm')  # 'norm' untuk distribusi normal\n",
    "\n",
    "# Tampilkan hasil dengan format yang diinginkan\n",
    "print(f\"Kolmogorov-Smirnov Statistic: {ks_stat:.10f}\")\n",
    "print(f\"P-value: {p_value:.20f}\")\n",
    "\n",
    "\n"
   ]
  },
  {
   "cell_type": "markdown",
   "metadata": {},
   "source": [
    "#### Nilai Opsi"
   ]
  },
  {
   "cell_type": "code",
   "execution_count": 54,
   "metadata": {},
   "outputs": [],
   "source": [
    "# print(f\"Harga opsi beli (call option) dengan Black-Scholes adalah: {call_price_black_scholes:.4f}\")\n",
    "S0 = 577.16  # Harga saham terakhir pada periode\n",
    "K = 435  # Harga strike sebagai contoh, dapat disesuaikan\n",
    "r = 0.04293  # Suku bunga bebas risiko sesuai dokumen (3.5%)\n",
    "T = 8/252  # Waktu hingga jatuh tempo, misal 3 bulan atau 0.25 tahun\n",
    "sigma = returns.std() * np.sqrt(252)\n",
    "#sigma = returns.std()"
   ]
  },
  {
   "cell_type": "markdown",
   "metadata": {},
   "source": [
    "#### Black Sholes dan Gram Charlier"
   ]
  },
  {
   "cell_type": "code",
   "execution_count": 29,
   "metadata": {},
   "outputs": [
    {
     "name": "stdout",
     "output_type": "stream",
     "text": [
      "Harga opsi Black-Scholes (CBS): 142.8499476103\n",
      "Harga opsi Gram-Charlier (CGC): 142.9001345371\n"
     ]
    }
   ],
   "source": [
    "### Black Scholes dan Gram Charlier\n",
    "import numpy as np\n",
    "from scipy.stats import norm\n",
    "\n",
    "skewness = returns.skew()\n",
    "kurtosis = returns.kurt()\n",
    "\n",
    "# Perhitungan d1 dan d2 Black-Scholes\n",
    "d1 = (np.log(S0 / K) + (r + sigma**2 / 2) * T) / (sigma * np.sqrt(T))\n",
    "d2 = d1 - sigma * np.sqrt(T)\n",
    "\n",
    "# Harga opsi Black-Scholes (CBS)\n",
    "CBS = S0 * norm.cdf(d1) - K * np.exp(-r * T) * norm.cdf(d2)\n",
    "\n",
    "# Koreksi harga opsi Gram-Charlier\n",
    "Q3 = (1 / 6) * S0 * sigma * np.sqrt(T) * (norm.pdf(d1) * (2 * sigma * np.sqrt(T) - d1) + sigma**2 * T * norm.cdf(d1))\n",
    "Q4 = (1 / 24) * S0 * sigma * np.sqrt(T) * (norm.pdf(d1) * (d1**2 - 3 * sigma * np.sqrt(T) * (d1 - sigma * np.sqrt(T)) - 1) + (sigma * np.sqrt(T))**3 * norm.cdf(d1))\n",
    "\n",
    "# Harga opsi Gram-Charlier (CGC)\n",
    "CGC = CBS + skewness * Q3 + (kurtosis - 3) * Q4\n",
    "\n",
    "# Output hasil\n",
    "print(f\"Harga opsi Black-Scholes (CBS): {CBS:.10f}\")\n",
    "print(f\"Harga opsi Gram-Charlier (CGC): {CGC:.10f}\")\n"
   ]
  },
  {
   "cell_type": "markdown",
   "metadata": {},
   "source": [
    "#### Variance Gamma"
   ]
  },
  {
   "cell_type": "code",
   "execution_count": 55,
   "metadata": {},
   "outputs": [
    {
     "name": "stdout",
     "output_type": "stream",
     "text": [
      "sigma: 0.1244, theta: 0.0001, nu: 6.5756\n"
     ]
    }
   ],
   "source": [
    "\n",
    "### Variance Gamma\n",
    "import numpy as np\n",
    "from scipy.stats import kurtosis, skew\n",
    "\n",
    "def estimate_variance_gamma_params(log_returns, T):\n",
    "    \"\"\"\n",
    "    Estimasi parameter Variance Gamma (sigma, theta, nu) menggunakan method of moments.\n",
    "    \n",
    "    Parameters:\n",
    "        log_returns: array-like, log return data historis\n",
    "        T: float, periode waktu (dalam tahun)\n",
    "\n",
    "    Returns:\n",
    "        sigma, theta, nu: float, parameter Variance Gamma\n",
    "    \"\"\"\n",
    "    # Hitung momen data\n",
    "    mean = np.mean(log_returns) / T\n",
    "    variance = np.var(log_returns) / T\n",
    "    skewness = skew(log_returns)\n",
    "    kurt = kurtosis(log_returns, fisher=False)  # Fisher=False untuk kurtosis populasi\n",
    "\n",
    "    # Estimasi parameter\n",
    "    theta = skewness * (variance ** 1.5) / (2 * (kurt - 3))\n",
    "    nu = (kurt - 3) * variance / (3 * (variance - theta**2))\n",
    "    sigma = np.sqrt(variance - theta**2 * nu)\n",
    "\n",
    "    return sigma, theta, nu\n",
    "\n",
    "\n",
    "\n",
    "sigma, theta, nu = estimate_variance_gamma_params(returns, T)\n",
    "print(f\"sigma: {sigma:.4f}, theta: {theta:.4f}, nu: {nu:.4f}\")\n",
    "\n"
   ]
  },
  {
   "cell_type": "code",
   "execution_count": 56,
   "metadata": {},
   "outputs": [
    {
     "name": "stdout",
     "output_type": "stream",
     "text": [
      "Harga opsi call (Variance Gamma): 142.7900\n"
     ]
    }
   ],
   "source": [
    "import numpy as np\n",
    "from scipy.stats import norm\n",
    "\n",
    "def variance_gamma_call_price(S0, K, T, r, sigma, theta, nu, n_simulations=10000):\n",
    "    \"\"\"\n",
    "    Menghitung harga opsi call menggunakan model Variance Gamma dengan simulasi Monte Carlo.\n",
    "    \n",
    "    Parameters:\n",
    "        S0: float, harga awal aset\n",
    "        K: float, harga strike\n",
    "        T: float, waktu hingga jatuh tempo\n",
    "        r: float, tingkat bunga bebas risiko\n",
    "        sigma: float, volatilitas dari proses Brownian\n",
    "        theta: float, drift pada proses Brownian\n",
    "        nu: float, tingkat varians dari perubahan waktu gamma\n",
    "        n_simulations: int, jumlah simulasi Monte Carlo\n",
    "\n",
    "    Returns:\n",
    "        float, harga opsi call\n",
    "    \"\"\"\n",
    "    # Simulasi distribusi gamma\n",
    "    gamma = np.random.gamma(shape=T / nu, scale=nu, size=n_simulations)\n",
    "    \n",
    "    # Proses Variance Gamma\n",
    "    # drift = (r - np.log(1 - theta * nu - 0.5 * sigma**2 * nu)) * T\n",
    "    # diffusion = theta * gamma + sigma * np.sqrt(gamma) * np.random.normal(size=n_simulations)\n",
    "    # ST = S0 * np.exp(drift + diffusion)\n",
    "    \n",
    "    # Proses Variance Gamma\n",
    "    drift = (r + (1/(nu))*np.log(1 - theta * nu - 0.5 * sigma**2 * nu)) * T\n",
    "    diffusion = theta * gamma + sigma * np.sqrt(gamma) * np.random.normal(size=n_simulations)\n",
    "    ST = S0 * np.exp(drift + diffusion)\n",
    "    \n",
    "    # Nilai opsi call\n",
    "    call_payoff = np.maximum(ST - K, 0)\n",
    "    call_price = np.exp(-r * T) * np.mean(call_payoff)\n",
    "    \n",
    "    return call_price\n",
    "\n",
    "# Contoh penggunaan\n",
    "n_simulations = 100000  # Jumlah simulasi Monte Carlo\n",
    "\n",
    "call_price = variance_gamma_call_price(S0, K, T, r, sigma, theta, nu, n_simulations)\n",
    "print(f\"Harga opsi call (Variance Gamma): {call_price:.4f}\")\n",
    "\n"
   ]
  },
  {
   "cell_type": "markdown",
   "metadata": {},
   "source": [
    "#### Antithetic Variate"
   ]
  },
  {
   "cell_type": "code",
   "execution_count": 57,
   "metadata": {},
   "outputs": [
    {
     "name": "stdout",
     "output_type": "stream",
     "text": [
      "Harga opsi call (Antithetic Variate Reduction): 142.7867\n"
     ]
    }
   ],
   "source": [
    "import numpy as np\n",
    "\n",
    "def variance_gamma_call_price_avr(S0, K, T, r, sigma, theta, nu, n_simulations=10000):\n",
    "    \"\"\"\n",
    "    Menghitung harga opsi call menggunakan model Variance Gamma \n",
    "    dengan teknik antithetic variate reduction.\n",
    "    \n",
    "    Parameters:\n",
    "        S0: float, harga awal aset\n",
    "        K: float, harga strike\n",
    "        T: float, waktu hingga jatuh tempo\n",
    "        r: float, tingkat bunga bebas risiko\n",
    "        sigma: float, volatilitas dari proses Brownian\n",
    "        theta: float, drift pada proses Brownian\n",
    "        nu: float, tingkat varians dari perubahan waktu gamma\n",
    "        n_simulations: int, jumlah simulasi Monte Carlo\n",
    "\n",
    "    Returns:\n",
    "        float, harga opsi call\n",
    "    \"\"\"\n",
    "    # Separuh jumlah simulasi untuk pasangan antithetic\n",
    "    half_simulations = n_simulations \n",
    "    \n",
    "    # Simulasi gamma\n",
    "    gamma = np.random.gamma(shape=T / nu, scale=nu, size=half_simulations)\n",
    "    \n",
    "    # Simulasi normal untuk Z\n",
    "    Z = np.random.normal(size=half_simulations)\n",
    "    \n",
    "    # Variance Gamma paths untuk pasangan (Z, -Z)\n",
    "    drift = (r + (1 / nu) * np.log(1 - theta * nu - 0.5 * sigma**2 * nu)) * T\n",
    "    \n",
    "    ST_plus = S0 * np.exp(drift + theta * gamma + sigma * np.sqrt(gamma) * Z)\n",
    "    ST_minus = S0 * np.exp(drift + theta * gamma - sigma * np.sqrt(gamma) * Z)\n",
    "    \n",
    "    # Harga opsi call untuk pasangan antithetic\n",
    "    payoff_plus = np.maximum(ST_plus - K, 0)\n",
    "    payoff_minus = np.maximum(ST_minus - K, 0)\n",
    "    \n",
    "    # Estimasi harga opsi menggunakan rata-rata antithetic\n",
    "    call_price = np.exp(-r * T) * np.mean((payoff_plus + payoff_minus) / 2)\n",
    "    \n",
    "    return call_price\n",
    "\n",
    "# Contoh parameter\n",
    "\n",
    "n_simulations = 100000  # Jumlah simulasi Monte Carlo\n",
    "\n",
    "# Hitung harga opsi call dengan antithetic variate\n",
    "call_price_avr = variance_gamma_call_price_avr(S0, K, T, r, sigma, theta, nu, n_simulations)\n",
    "print(f\"Harga opsi call (Antithetic Variate Reduction): {call_price_avr:.4f}\")\n"
   ]
  },
  {
   "cell_type": "code",
   "execution_count": null,
   "metadata": {},
   "outputs": [],
   "source": []
  }
 ],
 "metadata": {
  "kernelspec": {
   "display_name": "Python 3",
   "language": "python",
   "name": "python3"
  },
  "language_info": {
   "codemirror_mode": {
    "name": "ipython",
    "version": 3
   },
   "file_extension": ".py",
   "mimetype": "text/x-python",
   "name": "python",
   "nbconvert_exporter": "python",
   "pygments_lexer": "ipython3",
   "version": "3.11.4"
  }
 },
 "nbformat": 4,
 "nbformat_minor": 2
}
